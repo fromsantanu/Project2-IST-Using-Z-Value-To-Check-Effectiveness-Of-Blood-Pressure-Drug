{
 "cells": [
  {
   "cell_type": "markdown",
   "id": "4004031a",
   "metadata": {},
   "source": [
    "# Effectiveness of a New Drug for Lowering Blood Pressure"
   ]
  },
  {
   "cell_type": "markdown",
   "id": "a58364fe",
   "metadata": {},
   "source": [
    "A pharmaceutical company developed a new drug intended to lower blood pressure. To determine the drug's effectiveness, a clinical trial was conducted. Researchers wanted to see if there was a statistically significant difference in blood pressure levels before and after administering the drug.\n",
    "\n",
    "**Study Design**\n",
    "- Sample Size: 100 patients\n",
    "- Pre-treatment Mean Blood Pressure (µ₀): 140 mmHg\n",
    "- Post-treatment Mean Blood Pressure (X̄): 135 mmHg\n",
    "- Standard Deviation (σ): 15 mmHg\n",
    "- Significance Level (α): 0.05\n",
    "\n",
    "**Hypotheses**\n",
    "- Null Hypothesis (H₀): The mean blood pressure after treatment is equal to or greater than the mean blood pressure before treatment (µ₁ ≥ µ₀).\n",
    "- Alternative Hypothesis (H₁): The mean blood pressure after treatment is less than the mean blood pressure before treatment (µ₁ < µ₀).\n",
    "\n"
   ]
  },
  {
   "cell_type": "markdown",
   "id": "674250c0",
   "metadata": {},
   "source": [
    "### Program to solve this problem "
   ]
  },
  {
   "cell_type": "code",
   "execution_count": 3,
   "id": "d8c523ea",
   "metadata": {},
   "outputs": [
    {
     "name": "stdout",
     "output_type": "stream",
     "text": [
      "\n",
      "Sample Data (First 10 values):\n",
      "Pre-treatment Data: [166.46078519 146.00235813 154.68106976 173.61339799 168.01336985\n",
      " 125.3408318  154.25132626 137.72964188 138.45171722 146.15897753]\n",
      "Post-treatment Data: [163.24726046 114.78361408 115.94272502 149.54095062 117.40314892\n",
      " 164.15431778 128.79571529 123.78817783 163.8441304  157.20772187]\n",
      "\n",
      "Sample Size (n): 100\n",
      "Pre-treatment Mean Blood Pressure (µ₀): 140.90 mmHg\n",
      "Post-treatment Mean Blood Pressure (X̄): 136.23 mmHg\n",
      "Standard Deviation (σ): 15 mmHg\n",
      "Significance Level (α): 0.05\n",
      "Standard Error (SE): 1.50\n",
      "Calculated z-value: -3.11\n",
      "Calculated p-value: 0.00093\n",
      "Reject the null hypothesis (H₀).\n",
      "Conclusion: The new drug effectively lowers blood pressure.\n"
     ]
    }
   ],
   "source": [
    "import scipy.stats as stats\n",
    "import numpy as np\n",
    "\n",
    "# Simulated data for pre-treatment and post-treatment blood pressure\n",
    "np.random.seed(0)  # For reproducibility\n",
    "\n",
    "# Sample size\n",
    "n = 100\n",
    "\n",
    "# Generate pre-treatment blood pressure data (assuming normal distribution)\n",
    "pre_treatment_data = np.random.normal(loc=140, scale=15, size=n)\n",
    "\n",
    "# Generate post-treatment blood pressure data (assuming normal distribution)\n",
    "post_treatment_data = np.random.normal(loc=135, scale=15, size=n)\n",
    "\n",
    "# Optional: Print some of the data\n",
    "print(\"\\nSample Data (First 10 values):\")\n",
    "print(\"Pre-treatment Data:\", pre_treatment_data[:10])\n",
    "print(\"Post-treatment Data:\", post_treatment_data[:10])\n",
    "print()\n",
    "\n",
    "# Calculate sample means\n",
    "mu_0 = np.mean(pre_treatment_data)\n",
    "x_bar = np.mean(post_treatment_data)\n",
    "\n",
    "# Known population standard deviation (σ)\n",
    "sigma = 15  # As per the given case study\n",
    "\n",
    "# Significance level\n",
    "alpha = 0.05\n",
    "\n",
    "# Calculate the standard error\n",
    "SE = sigma / np.sqrt(n)\n",
    "\n",
    "# Calculate the z-value\n",
    "z_value = (x_bar - mu_0) / SE\n",
    "\n",
    "# Calculate the p-value\n",
    "p_value = stats.norm.cdf(z_value)\n",
    "\n",
    "# Print the results\n",
    "print(f\"Sample Size (n): {n}\")\n",
    "print(f\"Pre-treatment Mean Blood Pressure (µ₀): {mu_0:.2f} mmHg\")\n",
    "print(f\"Post-treatment Mean Blood Pressure (X̄): {x_bar:.2f} mmHg\")\n",
    "print(f\"Standard Deviation (σ): {sigma} mmHg\")\n",
    "print(f\"Significance Level (α): {alpha}\")\n",
    "print(f\"Standard Error (SE): {SE:.2f}\")\n",
    "print(f\"Calculated z-value: {z_value:.2f}\")\n",
    "print(f\"Calculated p-value: {p_value:.5f}\")\n",
    "\n",
    "# Decision\n",
    "if p_value < alpha:\n",
    "    print(\"Reject the null hypothesis (H₀).\")\n",
    "    print(\"Conclusion: The new drug effectively lowers blood pressure.\")\n",
    "else:\n",
    "    print(\"Fail to reject the null hypothesis (H₀).\")\n",
    "    print(\"Conclusion: There is no significant evidence to suggest the new drug lowers blood pressure.\")\n",
    "\n",
    "\n"
   ]
  },
  {
   "cell_type": "markdown",
   "id": "a58639b8",
   "metadata": {},
   "source": [
    "**Interpretation**\n",
    "- The z-value of -3.11 indicates how many standard deviations the observed mean (136.23 mmHg) is below the hypothesized mean (140.90 mmHg).\n",
    "- Using the standard normal distribution table, a z-value of -3.11 corresponds to a very low p-value 0.00093 (much less than 0.05).\n",
    "\n",
    "Since the p-value is lower than the significance level (α = 0.05), the researchers reject the null hypothesis."
   ]
  },
  {
   "cell_type": "code",
   "execution_count": null,
   "id": "f0ca9820",
   "metadata": {},
   "outputs": [],
   "source": []
  },
  {
   "cell_type": "code",
   "execution_count": null,
   "id": "979f1966",
   "metadata": {},
   "outputs": [],
   "source": []
  }
 ],
 "metadata": {
  "kernelspec": {
   "display_name": "Python 3 (ipykernel)",
   "language": "python",
   "name": "python3"
  },
  "language_info": {
   "codemirror_mode": {
    "name": "ipython",
    "version": 3
   },
   "file_extension": ".py",
   "mimetype": "text/x-python",
   "name": "python",
   "nbconvert_exporter": "python",
   "pygments_lexer": "ipython3",
   "version": "3.10.14"
  }
 },
 "nbformat": 4,
 "nbformat_minor": 5
}
